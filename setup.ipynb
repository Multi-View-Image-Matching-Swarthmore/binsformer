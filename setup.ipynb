{
 "cells": [
  {
   "cell_type": "markdown",
   "id": "bf4f94bb-f1fe-4533-a877-9ee7aac94826",
   "metadata": {},
   "source": [
    "1. Setup pyvenv for a virtual environment"
   ]
  },
  {
   "cell_type": "code",
   "execution_count": 10,
   "id": "58421deb-b772-4f6c-bc60-eefac4f589ac",
   "metadata": {
    "execution": {
     "iopub.execute_input": "2023-02-01T22:07:07.789599Z",
     "iopub.status.busy": "2023-02-01T22:07:07.789020Z",
     "iopub.status.idle": "2023-02-01T22:07:07.802478Z",
     "shell.execute_reply": "2023-02-01T22:07:07.801817Z",
     "shell.execute_reply.started": "2023-02-01T22:07:07.789575Z"
    }
   },
   "outputs": [
    {
     "name": "stdout",
     "output_type": "stream",
     "text": [
      "/notebooks\n"
     ]
    }
   ],
   "source": [
    "%%bash\n",
    "source binsformer/bin/activate"
   ]
  },
  {
   "cell_type": "markdown",
   "id": "c0ba0e5f-5a95-404c-a628-168286dd6536",
   "metadata": {},
   "source": [
    "2. Run the model"
   ]
  },
  {
   "cell_type": "code",
   "execution_count": 12,
   "id": "1623bb14-d70b-4364-b21b-d12b7c07fecf",
   "metadata": {
    "collapsed": true,
    "execution": {
     "iopub.execute_input": "2023-02-01T22:08:57.173645Z",
     "iopub.status.busy": "2023-02-01T22:08:57.173036Z",
     "iopub.status.idle": "2023-02-01T22:09:03.452384Z",
     "shell.execute_reply": "2023-02-01T22:09:03.451594Z",
     "shell.execute_reply.started": "2023-02-01T22:08:57.173562Z"
    },
    "jupyter": {
     "outputs_hidden": true
    }
   },
   "outputs": [
    {
     "name": "stderr",
     "output_type": "stream",
     "text": [
      "/usr/local/lib/python3.9/dist-packages/torch/distributed/launch.py:178: FutureWarning: The module torch.distributed.launch is deprecated\n",
      "and will be removed in future. Use torchrun.\n",
      "Note that --use_env is set by default in torchrun.\n",
      "If your script expects `--local_rank` argument to be set, please\n",
      "change it to read from `os.environ['LOCAL_RANK']` instead. See \n",
      "https://pytorch.org/docs/stable/distributed.html#launch-utility for \n",
      "further instructions\n",
      "\n",
      "  warnings.warn(\n",
      "Traceback (most recent call last):\n",
      "  File \"/notebooks/Monocular-Depth-Estimation-Toolbox/tools/train.py\", line 8, in <module>\n",
      "    import mmcv\n",
      "ModuleNotFoundError: No module named 'mmcv'\n",
      "ERROR:torch.distributed.elastic.multiprocessing.api:failed (exitcode: 1) local_rank: 0 (pid: 151) of binary: /usr/local/bin/python\n",
      "Traceback (most recent call last):\n",
      "  File \"/usr/lib/python3.9/runpy.py\", line 197, in _run_module_as_main\n",
      "    return _run_code(code, main_globals, None,\n",
      "  File \"/usr/lib/python3.9/runpy.py\", line 87, in _run_code\n",
      "    exec(code, run_globals)\n",
      "  File \"/usr/local/lib/python3.9/dist-packages/torch/distributed/launch.py\", line 193, in <module>\n",
      "    main()\n",
      "  File \"/usr/local/lib/python3.9/dist-packages/torch/distributed/launch.py\", line 189, in main\n",
      "    launch(args)\n",
      "  File \"/usr/local/lib/python3.9/dist-packages/torch/distributed/launch.py\", line 174, in launch\n",
      "    run(args)\n",
      "  File \"/usr/local/lib/python3.9/dist-packages/torch/distributed/run.py\", line 752, in run\n",
      "    elastic_launch(\n",
      "  File \"/usr/local/lib/python3.9/dist-packages/torch/distributed/launcher/api.py\", line 131, in __call__\n",
      "    return launch_agent(self._config, self._entrypoint, list(args))\n",
      "  File \"/usr/local/lib/python3.9/dist-packages/torch/distributed/launcher/api.py\", line 245, in launch_agent\n",
      "    raise ChildFailedError(\n",
      "torch.distributed.elastic.multiprocessing.errors.ChildFailedError: \n",
      "============================================================\n",
      "tools/train.py FAILED\n",
      "------------------------------------------------------------\n",
      "Failures:\n",
      "  <NO_OTHER_FAILURES>\n",
      "------------------------------------------------------------\n",
      "Root Cause (first observed failure):\n",
      "[0]:\n",
      "  time      : 2023-02-01_22:09:02\n",
      "  host      : nob2bv510f\n",
      "  rank      : 0 (local_rank: 0)\n",
      "  exitcode  : 1 (pid: 151)\n",
      "  error_file: <N/A>\n",
      "  traceback : To enable traceback see: https://pytorch.org/docs/stable/elastic/errors.html\n",
      "============================================================\n"
     ]
    },
    {
     "ename": "CalledProcessError",
     "evalue": "Command 'b'cd Monocular-Depth-Estimation-Toolbox\\nbash tools/dist_train.sh configs/binsformer/binsformer_swinl_22k_w7_kitti.py 1 --work-dir work_dirs/binsformer_swinl_22k_w7_kitti\\n'' returned non-zero exit status 1.",
     "output_type": "error",
     "traceback": [
      "\u001b[0;31m---------------------------------------------------------------------------\u001b[0m",
      "\u001b[0;31mCalledProcessError\u001b[0m                        Traceback (most recent call last)",
      "Input \u001b[0;32mIn [12]\u001b[0m, in \u001b[0;36m<cell line: 1>\u001b[0;34m()\u001b[0m\n\u001b[0;32m----> 1\u001b[0m \u001b[43mget_ipython\u001b[49m\u001b[43m(\u001b[49m\u001b[43m)\u001b[49m\u001b[38;5;241;43m.\u001b[39;49m\u001b[43mrun_cell_magic\u001b[49m\u001b[43m(\u001b[49m\u001b[38;5;124;43m'\u001b[39;49m\u001b[38;5;124;43mbash\u001b[39;49m\u001b[38;5;124;43m'\u001b[39;49m\u001b[43m,\u001b[49m\u001b[43m \u001b[49m\u001b[38;5;124;43m'\u001b[39;49m\u001b[38;5;124;43m'\u001b[39;49m\u001b[43m,\u001b[49m\u001b[43m \u001b[49m\u001b[38;5;124;43m'\u001b[39;49m\u001b[38;5;124;43mcd Monocular-Depth-Estimation-Toolbox\u001b[39;49m\u001b[38;5;130;43;01m\\n\u001b[39;49;00m\u001b[38;5;124;43mbash tools/dist_train.sh configs/binsformer/binsformer_swinl_22k_w7_kitti.py 1 --work-dir work_dirs/binsformer_swinl_22k_w7_kitti\u001b[39;49m\u001b[38;5;130;43;01m\\n\u001b[39;49;00m\u001b[38;5;124;43m'\u001b[39;49m\u001b[43m)\u001b[49m\n",
      "File \u001b[0;32m/usr/local/lib/python3.9/dist-packages/IPython/core/interactiveshell.py:2358\u001b[0m, in \u001b[0;36mInteractiveShell.run_cell_magic\u001b[0;34m(self, magic_name, line, cell)\u001b[0m\n\u001b[1;32m   2356\u001b[0m \u001b[38;5;28;01mwith\u001b[39;00m \u001b[38;5;28mself\u001b[39m\u001b[38;5;241m.\u001b[39mbuiltin_trap:\n\u001b[1;32m   2357\u001b[0m     args \u001b[38;5;241m=\u001b[39m (magic_arg_s, cell)\n\u001b[0;32m-> 2358\u001b[0m     result \u001b[38;5;241m=\u001b[39m \u001b[43mfn\u001b[49m\u001b[43m(\u001b[49m\u001b[38;5;241;43m*\u001b[39;49m\u001b[43margs\u001b[49m\u001b[43m,\u001b[49m\u001b[43m \u001b[49m\u001b[38;5;241;43m*\u001b[39;49m\u001b[38;5;241;43m*\u001b[39;49m\u001b[43mkwargs\u001b[49m\u001b[43m)\u001b[49m\n\u001b[1;32m   2359\u001b[0m \u001b[38;5;28;01mreturn\u001b[39;00m result\n",
      "File \u001b[0;32m/usr/local/lib/python3.9/dist-packages/IPython/core/magics/script.py:153\u001b[0m, in \u001b[0;36mScriptMagics._make_script_magic.<locals>.named_script_magic\u001b[0;34m(line, cell)\u001b[0m\n\u001b[1;32m    151\u001b[0m \u001b[38;5;28;01melse\u001b[39;00m:\n\u001b[1;32m    152\u001b[0m     line \u001b[38;5;241m=\u001b[39m script\n\u001b[0;32m--> 153\u001b[0m \u001b[38;5;28;01mreturn\u001b[39;00m \u001b[38;5;28;43mself\u001b[39;49m\u001b[38;5;241;43m.\u001b[39;49m\u001b[43mshebang\u001b[49m\u001b[43m(\u001b[49m\u001b[43mline\u001b[49m\u001b[43m,\u001b[49m\u001b[43m \u001b[49m\u001b[43mcell\u001b[49m\u001b[43m)\u001b[49m\n",
      "File \u001b[0;32m/usr/local/lib/python3.9/dist-packages/IPython/core/magics/script.py:305\u001b[0m, in \u001b[0;36mScriptMagics.shebang\u001b[0;34m(self, line, cell)\u001b[0m\n\u001b[1;32m    300\u001b[0m \u001b[38;5;28;01mif\u001b[39;00m args\u001b[38;5;241m.\u001b[39mraise_error \u001b[38;5;129;01mand\u001b[39;00m p\u001b[38;5;241m.\u001b[39mreturncode \u001b[38;5;241m!=\u001b[39m \u001b[38;5;241m0\u001b[39m:\n\u001b[1;32m    301\u001b[0m     \u001b[38;5;66;03m# If we get here and p.returncode is still None, we must have\u001b[39;00m\n\u001b[1;32m    302\u001b[0m     \u001b[38;5;66;03m# killed it but not yet seen its return code. We don't wait for it,\u001b[39;00m\n\u001b[1;32m    303\u001b[0m     \u001b[38;5;66;03m# in case it's stuck in uninterruptible sleep. -9 = SIGKILL\u001b[39;00m\n\u001b[1;32m    304\u001b[0m     rc \u001b[38;5;241m=\u001b[39m p\u001b[38;5;241m.\u001b[39mreturncode \u001b[38;5;129;01mor\u001b[39;00m \u001b[38;5;241m-\u001b[39m\u001b[38;5;241m9\u001b[39m\n\u001b[0;32m--> 305\u001b[0m     \u001b[38;5;28;01mraise\u001b[39;00m CalledProcessError(rc, cell)\n",
      "\u001b[0;31mCalledProcessError\u001b[0m: Command 'b'cd Monocular-Depth-Estimation-Toolbox\\nbash tools/dist_train.sh configs/binsformer/binsformer_swinl_22k_w7_kitti.py 1 --work-dir work_dirs/binsformer_swinl_22k_w7_kitti\\n'' returned non-zero exit status 1."
     ]
    }
   ],
   "source": [
    "%%bash\n",
    "cd Monocular-Depth-Estimation-Toolbox\n",
    "bash tools/dist_train.sh configs/binsformer/binsformer_swinl_22k_w7_kitti.py 1 --work-dir work_dirs/binsformer_swinl_22k_w7_kitti"
   ]
  }
 ],
 "metadata": {
  "kernelspec": {
   "display_name": "Python 3 (ipykernel)",
   "language": "python",
   "name": "python3"
  },
  "language_info": {
   "codemirror_mode": {
    "name": "ipython",
    "version": 3
   },
   "file_extension": ".py",
   "mimetype": "text/x-python",
   "name": "python",
   "nbconvert_exporter": "python",
   "pygments_lexer": "ipython3",
   "version": "3.9.13"
  }
 },
 "nbformat": 4,
 "nbformat_minor": 5
}
